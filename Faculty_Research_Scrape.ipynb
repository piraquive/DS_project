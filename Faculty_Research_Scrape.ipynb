{
 "cells": [
  {
   "cell_type": "code",
   "execution_count": 2,
   "metadata": {},
   "outputs": [
    {
     "name": "stdout",
     "output_type": "stream",
     "text": [
      "\n",
      "\n",
      "\n",
      "\n",
      "\n",
      "\n",
      "\n",
      "\n",
      "\n",
      "\n",
      "\n",
      "\n",
      "\n",
      "\n",
      "\n",
      "\n",
      "\n",
      "\n",
      "\n",
      "\n",
      "\n",
      "\n",
      "\n",
      "\n",
      "\n",
      "\n",
      "\n",
      "\n",
      "\n",
      "\n",
      "\n",
      "\n",
      "[('Jake Abbott', 28), ('Claire Acevedo', 8), ('Tim Ameel', 27), ('Rebecca Brannon', 17), ('Marc Calaf', 9), ('Jiyoung Chang', 11), ('Brittany Coats', 12), ('Michael Czabaj', 9), ('Mathieu Francoeur', 21), ('Henry Fu', 17), ('Bruce Gale', 34), ('Owen Kingstedt', 4), ('Yong Lin Kong', 6), ('Kam K. Leang', 31), ('Tommaso Lenzi', 22), ('Stephen Mascaro', 17), ('Patrick McMurtry', 26), ('Sanford G. Meek', 21), ('Andrew Merryweather', 11), ('Mark A. Minor', 21), ('Ken Monson', 12), ('Steven Naleway', 10), ('Pania Newell', 8), ('Eric Pardyjak', 26), ('Keunhan (Kay) Park', 18), ('Bart Raeymaekers', 15), ('Shad Roundy', 20), ('Amanda Smith', 10), ('Ashley Spear', 5), ('Rob Stoll', 11), ('Wenda Tan', 7), ('Roseanne Warren', 6)]\n"
     ]
    }
   ],
   "source": [
    "import urllib.request\n",
    "from bs4 import BeautifulSoup\n",
    "\n",
    "\n",
    "\n",
    "def get_hindex(url):\n",
    "    scholar_soup = BeautifulSoup(urllib.request.urlopen(url), 'lxml')\n",
    "    return int(scholar_soup.findAll(\"td\", {\"class\": \"gsc_rsb_std\"})[2].text)\n",
    "\n",
    "\n",
    "\n",
    "def get_prof_scores():\n",
    "    soup = BeautifulSoup(urllib.request.urlopen(\"https://mech.utah.edu/faculty/\"), 'lxml')\n",
    "\n",
    "    for row in soup.find(\"table\", {\"id\": \"tablepress-7\"}).findAll(\"tr\"):\n",
    "        tds = row.findAll(\"td\")\n",
    "        if len(tds) == 0:\n",
    "            continue\n",
    "\n",
    "        _, name, body, _ = tds\n",
    "        link = body.find(\"a\")\n",
    "        if not link:\n",
    "            continue\n",
    "        url = link[\"href\"]\n",
    "      \n",
    "\n",
    "        yield (name.find(\"strong\").text.strip(), get_hindex(url))\n",
    "\n",
    "prof_scores = list(get_prof_scores())\n",
    "\n",
    "print(prof_scores)\n",
    "\n",
    "\n",
    "\n",
    "\n",
    "\n",
    "\n"
   ]
  }
 ],
 "metadata": {
  "kernelspec": {
   "display_name": "Python 3",
   "language": "python",
   "name": "python3"
  },
  "language_info": {
   "codemirror_mode": {
    "name": "ipython",
    "version": 3
   },
   "file_extension": ".py",
   "mimetype": "text/x-python",
   "name": "python",
   "nbconvert_exporter": "python",
   "pygments_lexer": "ipython3",
   "version": "3.6.3"
  }
 },
 "nbformat": 4,
 "nbformat_minor": 2
}
