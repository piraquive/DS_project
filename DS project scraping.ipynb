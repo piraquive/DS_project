{
 "cells": [
  {
   "cell_type": "code",
   "execution_count": 1,
   "metadata": {
    "collapsed": true
   },
   "outputs": [],
   "source": [
    "from bs4 import BeautifulSoup\n",
    "import requests\n",
    "import urllib.request\n",
    "\n",
    "import time\n",
    "import pandas as pd\n",
    "import scipy as sc\n",
    "import numpy as np\n",
    "\n",
    "import statsmodels.formula.api as sm\n",
    "\n",
    "import matplotlib.pyplot as plt \n",
    "plt.style.use('ggplot')\n",
    "%matplotlib inline  \n",
    "plt.rcParams['figure.figsize'] = (10, 6) \n",
    "from bs4 import UnicodeDammit\n"
   ]
  },
  {
   "cell_type": "code",
   "execution_count": 2,
   "metadata": {
    "collapsed": true
   },
   "outputs": [],
   "source": [
    "#Pulls the grade lists from the csv files, combines the dataframes for the same semester\n",
    "#and removes the suppressed data\n",
    "def getgrades(csv1, csv2):\n",
    "    grades1=pd.read_csv(csv1, encoding=\"utf8\")\n",
    "    grades2=pd.read_csv(csv2, encoding=\"utf8\")\n",
    "    grds=[grades1, grades2]\n",
    "    grades=pd.concat(grds,ignore_index=True)\n",
    "    i=0\n",
    "    grades=grades.reset_index(drop=True)\n",
    "    hc=grades['sumHeadcount']\n",
    "    while i < len(hc):\n",
    "        if hc[i]== 'ds':\n",
    "            grades=grades.drop(i, axis=0)\n",
    "        i+=1\n",
    "    grades=grades.reset_index(drop=True)\n",
    "    return(grades)"
   ]
  },
  {
   "cell_type": "code",
   "execution_count": 3,
   "metadata": {
    "collapsed": true
   },
   "outputs": [],
   "source": [
    "#Combines the grades of each class into one row\n",
    "def combinegrades(grades):\n",
    "    i=1\n",
    "    n=2\n",
    "    gradesclean=pd.DataFrame([],columns=['Num', 'Section', 'Subject', 'A', 'B', 'C', 'D', 'E', 'W', 'Other'])\n",
    "    gradesclean=gradesclean.append({'Num':1050, 'Section':1, 'Subject':'ASTR - Astronomy', 'A':0, 'B':0, 'C':0, 'D':0,\n",
    "                                    'E':0, 'W':0, 'Other':2}, ignore_index=True)\n",
    "    while i<len(grades['sumHeadcount']):\n",
    "        if grades['Subject'].iloc[i]==gradesclean['Subject'].iloc[-1]:\n",
    "            if grades['Catalog Num'].iloc[i]==gradesclean['Num'].iloc[-1]:\n",
    "                fail=0\n",
    "                for m in range(1,n):\n",
    "                    if grades['Section'].iloc[i]==gradesclean['Section'].iloc[-m]:\n",
    "                        gradesclean[grades['Grade Group'].iloc[i]].iat[-m]=grades['sumHeadcount'].iloc[i]\n",
    "                        break\n",
    "                    fail+=1\n",
    "                if fail==n-1:\n",
    "                    n+=1\n",
    "                    gradesclean=gradesclean.append({'Num':grades['Catalog Num'].iloc[i],\n",
    "                                                    'Section':grades['Section'].iloc[i],\n",
    "                                                    'Subject':grades['Subject'].iloc[i], 'A':0, 'B':0,\n",
    "                                                    'C':0,'D':0, 'E':0, 'W':0, 'Other':0}, ignore_index=True)\n",
    "                    gradesclean[grades['Grade Group'].iloc[i]].iat[-1]=grades['sumHeadcount'].iloc[i]\n",
    "            else:\n",
    "                n=2\n",
    "                gradesclean=gradesclean.append({'Num':grades['Catalog Num'].iloc[i], 'Section':grades['Section'].iloc[i],\n",
    "                                                'Subject':grades['Subject'].iloc[i], 'A':0, 'B':0,\n",
    "                                                'C':0,'D':0, 'E':0, 'W':0, 'Other':0}, ignore_index=True)\n",
    "                gradesclean[grades['Grade Group'].iloc[i]].iat[-1]=grades['sumHeadcount'].iloc[i]\n",
    "        else:\n",
    "            n=2\n",
    "            gradesclean=gradesclean.append({'Num':grades['Catalog Num'].iloc[i], 'Section':grades['Section'].iloc[i],\n",
    "                                            'Subject':grades['Subject'].iloc[i], 'A':0, 'B':0,\n",
    "                                            'C':0,'D':0, 'E':0, 'W':0, 'Other':0}, ignore_index=True)\n",
    "            gradesclean[grades['Grade Group'].iloc[i]].iat[-1]=grades['sumHeadcount'].iloc[i]\n",
    "        i+=1\n",
    "    return(gradesclean)"
   ]
  },
  {
   "cell_type": "code",
   "execution_count": 5,
   "metadata": {
    "collapsed": true
   },
   "outputs": [],
   "source": [
    "#The only code needed to run each time more data is added, \n",
    "#to add more just add to the sgrades/egrades lists and lengthen cleaned\n",
    "sgrades=['fall17sci.csv','spring17sci.csv']\n",
    "egrades=['fall17eng.csv','spring17eng.csv']\n",
    "i=0\n",
    "cleaned=[0,0]\n",
    "while i<len(sgrades):\n",
    "    gradess=getgrades(sgrades[i],egrades[i])\n",
    "    gradescleans=combinegrades(gradess)\n",
    "    cleaned[i]=gradescleans\n",
    "    i+=1\n"
   ]
  },
  {
   "cell_type": "code",
   "execution_count": null,
   "metadata": {},
   "outputs": [],
   "source": [
    "cleaned[1]"
   ]
  }
 ],
 "metadata": {
  "kernelspec": {
   "display_name": "Python 3",
   "language": "python",
   "name": "python3"
  },
  "language_info": {
   "codemirror_mode": {
    "name": "ipython",
    "version": 3
   },
   "file_extension": ".py",
   "mimetype": "text/x-python",
   "name": "python",
   "nbconvert_exporter": "python",
   "pygments_lexer": "ipython3",
   "version": "3.6.3"
  }
 },
 "nbformat": 4,
 "nbformat_minor": 2
}
