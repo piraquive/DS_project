{
 "cells": [
  {
   "cell_type": "markdown",
   "metadata": {},
   "source": [
    "# Introduction to Data Science - Homework 8\n",
    "\n",
    "1. Basic Info. The project title, your names, e-mail addresses, UIDs.\n",
    "\n",
    "+ Background and Motivation. Discuss your motivations and reasons for choosing this project, especially any background or research interests that may have influenced your decision.\n",
    "\n",
    "+ Project Objectives. Provide the primary questions you are trying to answer in your project. What would you like to learn and accomplish? List the benefits.\n",
    "\n",
    "+ Data. From where and how are you collecting your data? If appropriate, provide a link to your data sources.\n",
    "\n",
    "+ Data Processing. Do you expect to do substantial data cleanup or data extraction? What quantities do you plan to derive from your data? How will data processing be implemented?\n",
    "\n",
    "+ Exploratory Analysis. Which methods and visualizations are you planning to use to look at your dataset?\n",
    "\n",
    "+ Analysis Methodology. How are you planning to analyze your data?\n",
    "\n",
    "+ Project Schedule. Make sure that you plan your work so that you can avoid a big rush right before the final project deadline, and delegate different modules and responsibilities among your team members. Write this in terms of weekly deadlines.\n"
   ]
  },
  {
   "cell_type": "markdown",
   "metadata": {},
   "source": [
    "## 1. Basic Info. \n",
    "\n",
    "#### Title:  University accountability; Professors and Student Success. \n",
    "#### Names:\n",
    "*Diego Piraquive, piraquive.diego@gmail.com, u0778219*\n",
    "<br>\n",
    "*Trevor Teerlink, trevorteerlink@gmail.com, U0930990*\n",
    "<br>\n",
    "*Member 3: James Firpo*"
   ]
  },
  {
   "cell_type": "markdown",
   "metadata": {},
   "source": [
    "## 2. Background and Motivation. \n",
    "### Discuss your motivations and reasons for choosing this project, especially any background or research interests that may have influenced your decision.\n"
   ]
  },
  {
   "cell_type": "markdown",
   "metadata": {},
   "source": [
    "## 3. Project Objectives. \n",
    "### Provide the primary questions you are trying to answer in your project. \n",
    "\n",
    "### What would you like to learn and accomplish? List the benefits.\n"
   ]
  },
  {
   "cell_type": "markdown",
   "metadata": {},
   "source": [
    "## 4. Data. \n",
    "### From where and how are you collecting your data? If appropriate, provide a link to your data sources.\n"
   ]
  },
  {
   "cell_type": "markdown",
   "metadata": {},
   "source": [
    "## 5. Data Processing. \n",
    "### Do you expect to do substantial data cleanup or data extraction?\n",
    "### What quantities do you plan to derive from your data? \n",
    "### How will data processing be implemented?"
   ]
  },
  {
   "cell_type": "markdown",
   "metadata": {},
   "source": [
    "## 6. Exploratory Analysis. \n",
    "### Which methods and visualizations are you planning to use to look at your dataset?\n"
   ]
  },
  {
   "cell_type": "markdown",
   "metadata": {},
   "source": [
    "## 7. Analysis Methodology. \n",
    "### How are you planning to analyze your data?\n"
   ]
  },
  {
   "cell_type": "markdown",
   "metadata": {},
   "source": [
    "## 8. Project Schedule."
   ]
  }
 ],
 "metadata": {
  "kernelspec": {
   "display_name": "Python 3",
   "language": "python",
   "name": "python3"
  },
  "language_info": {
   "codemirror_mode": {
    "name": "ipython",
    "version": 3
   },
   "file_extension": ".py",
   "mimetype": "text/x-python",
   "name": "python",
   "nbconvert_exporter": "python",
   "pygments_lexer": "ipython3",
   "version": "3.6.3"
  }
 },
 "nbformat": 4,
 "nbformat_minor": 2
}
