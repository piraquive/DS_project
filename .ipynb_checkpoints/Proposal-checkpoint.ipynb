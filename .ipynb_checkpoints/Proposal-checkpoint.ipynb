{
 "cells": [
  {
   "cell_type": "markdown",
   "metadata": {},
   "source": [
    "# University accountability; Professors and Student Success. \n",
    "1. Basic Info. The project title, your names, e-mail addresses, UIDs.\n",
    "\n",
    "+ Background and Motivation. Discuss your motivations and reasons for choosing this project, especially any background or research interests that may have influenced your decision.\n",
    "\n",
    "+ Project Objectives. Provide the primary questions you are trying to answer in your project. What would you like to learn and accomplish? List the benefits.\n",
    "\n",
    "+ Data. From where and how are you collecting your data? If appropriate, provide a link to your data sources.\n",
    "\n",
    "+ Data Processing. Do you expect to do substantial data cleanup or data extraction? What quantities do you plan to derive from your data? How will data processing be implemented?\n",
    "\n",
    "+ Exploratory Analysis. Which methods and visualizations are you planning to use to look at your dataset?\n",
    "\n",
    "+ Analysis Methodology. How are you planning to analyze your data?\n",
    "\n",
    "+ Project Schedule. Make sure that you plan your work so that you can avoid a big rush right before the final project deadline, and delegate different modules and responsibilities among your team members. Write this in terms of weekly deadlines.\n"
   ]
  },
  {
   "cell_type": "markdown",
   "metadata": {},
   "source": [
    "## 1. Basic Info. \n",
    "\n",
    "#### Title:  University accountability; Professors and Student Success. \n",
    "#### Names:\n",
    "*Diego Piraquive, piraquive.diego@gmail.com, u0778219*\n",
    "<br>\n",
    "*Trevor Teerlink, trevorteerlink@gmail.com, U0930990*\n",
    "<br>\n",
    "*Member 3: James Firpo*"
   ]
  },
  {
   "cell_type": "markdown",
   "metadata": {},
   "source": [
    "## 2. Background and Motivation. \n",
    "### Discuss your motivations and reasons for choosing this project, especially any background or research interests that may have influenced your decision.\n",
    "We will be looking to find correlations between professors and their student’s success.   We hope to find trends that we can present for the purpose of bettering experiences for students.  We are both Mechanical Engineering students, and over the course of our education here at the University of Utah, it seems there are beliefs that \"Professors only care about their research here\" and \"Professors don’t care about the success of their students, they only teach because it’s required by the University\".  We want to find out if such accusations have any validity. "
   ]
  },
  {
   "cell_type": "markdown",
   "metadata": {},
   "source": [
    "## 3. Project Objectives. \n",
    "### Provide the primary questions you are trying to answer in your project. \n",
    "We want to see all the correlations between what makes a professor successful, or not, and how a professor's life, characteristics, and agenda affect their students.  More specifically we want to see if things like the amount of research a professor completes, their salary, their education, their hometown, or anything else about them, can affect their students in any way.  Answering these questions may reveal some hidden relationships that have been either developing recently, or have been existent for some time.  We also are considering making comparisons between the University of Utah and other similar and competitive Universities.  In addition to answering the aforementioned questions, we hope to better our skills in data scraping, data visualization, and data interpretation. \n",
    "### What would you like to learn and accomplish? List the benefits.\n",
    "Possible benefits include\n",
    "* An insight into what drives a professors students to be academically successful\n",
    "+ The ability to see relations between variables to assess where behavior could be modified. \n",
    "+ A concise metric to measure student and professor success\n",
    "\n"
   ]
  },
  {
   "cell_type": "markdown",
   "metadata": {},
   "source": [
    "## 4. Data. \n",
    "### From where and how are you collecting your data? If appropriate, provide a link to your data sources.\n",
    "We plan to obtain data from several sources.  Our main target will be The Office of Budget & Institutional Analysis from the University of Utah, and similar statistical repositories from other Universities.  \n",
    "https://www.obia.utah.edu/\n"
   ]
  },
  {
   "cell_type": "markdown",
   "metadata": {},
   "source": [
    "## 5. Data Processing.\n",
    "The OBIA provides an extremely wide data set we will need to trim and clean. To do so, we need to identify which variables and predictors have the largest ability to reveal professor/student success relationships.  The data extraction portion will not be very intensive because the data is readily available for scraping. We expect most our work to involve cleaning the data, creating dataframes, and mining these dataframes for the richest data. "
   ]
  },
  {
   "cell_type": "markdown",
   "metadata": {},
   "source": [
    "## 6. Exploratory Analysis. \n",
    "### Which methods and visualizations are you planning to use to look at your dataset\n",
    "We plan to use a scatter matrix to see the correlation between the variables that affect professor success. When we analyze the data we will use classification methods such as decision trees to try to better predict what factors affect professors and their student's success.  \n"
   ]
  },
  {
   "cell_type": "markdown",
   "metadata": {},
   "source": [
    "## 7. Analysis Methodology. \n",
    "### How are you planning to analyze your data?\n",
    "To begin analyzing our data, we will look for positive and negative linear relationships when plotting two variables against each other, which will require many two variable plots.  After getting some idea of how the data may be correlated, we might begin multivariable plotting, looking at correlation coefficient matrices, and possibly incorporating heatmaps.  From here, we may build decision trees or support vector machines to test our ability to classify students, or professors into their respective chosen categories.  Through testing different K and C values in our classifying methods, we can optimize the methods for best accuracy.  This will help determine if headers like professor rank and status will affect student success.\n"
   ]
  },
  {
   "cell_type": "markdown",
   "metadata": {},
   "source": [
    "## 8. Project Schedule.\n",
    "\n",
    "* March 13:\n",
    "     - Finish Proposal\n",
    "+ March 30 \n",
    "     - Finish Collecting all data\n",
    "     - Clean Data\n",
    "     - Data exploration\n",
    "+ April 7\n",
    "     - Classifications, Correlations, Visualization\n",
    "     - Drawing conclusions\n",
    "     - Interpreting\n",
    "+ April 14\n",
    "     - Assemble final report, video, and presentation\n"
   ]
  }
 ],
 "metadata": {
  "kernelspec": {
   "display_name": "Python 3",
   "language": "python",
   "name": "python3"
  },
  "language_info": {
   "codemirror_mode": {
    "name": "ipython",
    "version": 3
   },
   "file_extension": ".py",
   "mimetype": "text/x-python",
   "name": "python",
   "nbconvert_exporter": "python",
   "pygments_lexer": "ipython3",
   "version": "3.6.3"
  }
 },
 "nbformat": 4,
 "nbformat_minor": 2
}
